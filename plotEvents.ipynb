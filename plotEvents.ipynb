{
 "cells": [
  {
   "cell_type": "code",
   "execution_count": 1,
   "id": "64a421d3-6d98-4bce-b812-17a74b8ea12d",
   "metadata": {},
   "outputs": [
    {
     "name": "stdout",
     "output_type": "stream",
     "text": [
      "Welcome to JupyROOT 6.24/00\n"
     ]
    }
   ],
   "source": [
    "import ROOT\n",
    "import math\n",
    "import numpy as np\n",
    "from funcs import getEtaPhiBins, sumTowers\n",
    "ROOT.gStyle.SetOptStat(0)"
   ]
  },
  {
   "cell_type": "code",
   "execution_count": 2,
   "id": "b822d712-ff10-4547-ac51-9cf2e115d21c",
   "metadata": {},
   "outputs": [],
   "source": [
    "file_With = 'inputNtuples/ntuple_VBFHToInv_NoPU_WithEnergySplit.root'\n",
    "\n",
    "file_No = 'inputNtuples/ntuple_VBFHToInv_NoPU_NoEnergySplit.root'\n",
    "\n",
    "isjet = True"
   ]
  },
  {
   "cell_type": "code",
   "execution_count": 3,
   "id": "cee10863-c757-4574-9648-10476d273314",
   "metadata": {},
   "outputs": [],
   "source": [
    "f_With = ROOT.TFile.Open(file_With, \"READ\")\n",
    "tree_With = f_With.Get(\"hgcalTriggerNtuplizer/HGCalTriggerNtuple\")\n",
    "\n",
    "f_No = ROOT.TFile.Open(file_No, \"READ\")\n",
    "tree_No = f_No.Get(\"hgcalTriggerNtuplizer/HGCalTriggerNtuple\")"
   ]
  },
  {
   "cell_type": "code",
   "execution_count": 73,
   "id": "2774e23b-5d3b-4b82-b07c-82cfdde47d31",
   "metadata": {},
   "outputs": [],
   "source": [
    "def getBox(hist, genEta, genPhi):\n",
    "    genEtaBin = histTot_With.GetXaxis().FindBin(genEta)\n",
    "    genPhiBin = histTot_With.GetYaxis().FindBin(genPhi)\n",
    "    \n",
    "    x1 = hist.GetXaxis().GetBinLowEdge(genEtaBin)\n",
    "    x2 = hist.GetXaxis().GetBinUpEdge(genEtaBin)\n",
    "    y1 = hist.GetYaxis().GetBinLowEdge(genPhiBin)\n",
    "    y2 = hist.GetYaxis().GetBinUpEdge(genPhiBin)\n",
    "    \n",
    "    b = ROOT.TBox(x1, y1, x2, y2);\n",
    "    b.SetFillStyle(0);\n",
    "    b.SetLineWidth(1);\n",
    "    b.SetLineColor(2);\n",
    "    return b"
   ]
  },
  {
   "cell_type": "code",
   "execution_count": 15,
   "id": "3921855f-b6f6-42a3-9532-743e6e87d4da",
   "metadata": {},
   "outputs": [],
   "source": [
    "etaBinStep = 0.0870\n",
    "minBinEta = -35\n",
    "maxBinEta = 35\n",
    "minEta = minBinEta * etaBinStep\n",
    "maxEta = maxBinEta * etaBinStep\n",
    "nBinsEta = maxBinEta - minBinEta\n",
    "phiBinStep = 2*math.pi/72\n",
    "minBinPhi = -36\n",
    "maxBinPhi = 36\n",
    "minPhi = minBinPhi * phiBinStep\n",
    "maxPhi = maxBinPhi * phiBinStep\n",
    "nBinsPhi = maxBinPhi - minBinPhi\n"
   ]
  },
  {
   "cell_type": "code",
   "execution_count": 5,
   "id": "544f9870-2947-4d86-82ff-42c25bba5a23",
   "metadata": {},
   "outputs": [],
   "source": [
    "histEM_With = ROOT.TH2D(\"histEM_With\",\"\",nBinsEta,minEta,maxEta, nBinsPhi,minPhi,maxPhi)\n",
    "histHad_With = ROOT.TH2D(\"histHad_With\",\"\",nBinsEta,minEta,maxEta, nBinsPhi,minPhi,maxPhi)\n",
    "histTot_With = ROOT.TH2D(\"histTot_With\",\"\",nBinsEta,minEta,maxEta, nBinsPhi,minPhi,maxPhi)\n",
    "\n",
    "histEM_No = ROOT.TH2D(\"histEM_No\",\"\",nBinsEta,minEta,maxEta, nBinsPhi,minPhi,maxPhi)\n",
    "histHad_No = ROOT.TH2D(\"histHad_No\",\"\",nBinsEta,minEta,maxEta, nBinsPhi,minPhi,maxPhi)\n",
    "histTot_No = ROOT.TH2D(\"histTot_No\",\"\",nBinsEta,minEta,maxEta, nBinsPhi,minPhi,maxPhi)"
   ]
  },
  {
   "cell_type": "code",
   "execution_count": 294,
   "id": "14bad702-620e-45cc-be8a-240b6f979496",
   "metadata": {},
   "outputs": [],
   "source": [
    "entryNum = 50\n",
    "#3, 50, 51, 55, 60, 61, 62, "
   ]
  },
  {
   "cell_type": "code",
   "execution_count": 293,
   "id": "5be9f5a9-0644-416e-81a7-5706169e3916",
   "metadata": {},
   "outputs": [
    {
     "name": "stdout",
     "output_type": "stream",
     "text": [
      "0\n",
      "19\n",
      "29\n",
      "50\n",
      "64\n",
      "82\n",
      "86\n",
      "92\n",
      "100\n",
      "101\n",
      "116\n",
      "118\n",
      "126\n",
      "139\n",
      "140\n",
      "141\n",
      "162\n",
      "174\n",
      "175\n",
      "179\n",
      "180\n",
      "181\n",
      "187\n",
      "203\n",
      "205\n",
      "216\n",
      "225\n",
      "238\n",
      "239\n",
      "249\n",
      "255\n",
      "262\n",
      "268\n",
      "274\n",
      "291\n",
      "301\n",
      "305\n",
      "313\n",
      "339\n",
      "351\n",
      "372\n",
      "374\n",
      "378\n",
      "388\n",
      "397\n",
      "412\n",
      "414\n",
      "435\n",
      "436\n",
      "440\n",
      "446\n",
      "457\n",
      "460\n",
      "461\n",
      "472\n",
      "478\n",
      "487\n",
      "496\n",
      "499\n",
      "511\n",
      "517\n",
      "524\n",
      "548\n",
      "550\n",
      "567\n",
      "568\n",
      "597\n",
      "601\n",
      "623\n",
      "627\n",
      "631\n",
      "642\n",
      "643\n",
      "646\n",
      "653\n",
      "659\n",
      "696\n",
      "705\n",
      "708\n",
      "717\n",
      "738\n",
      "743\n",
      "754\n",
      "772\n",
      "783\n",
      "790\n",
      "801\n",
      "813\n",
      "827\n",
      "830\n",
      "840\n",
      "843\n",
      "851\n",
      "861\n",
      "869\n",
      "871\n",
      "875\n",
      "901\n",
      "904\n",
      "911\n",
      "916\n",
      "922\n",
      "924\n"
     ]
    },
    {
     "ename": "KeyboardInterrupt",
     "evalue": "",
     "output_type": "error",
     "traceback": [
      "\u001b[0;31m---------------------------------------------------------------------------\u001b[0m",
      "\u001b[0;31mKeyboardInterrupt\u001b[0m                         Traceback (most recent call last)",
      "\u001b[0;32m<ipython-input-293-73e1e130ae92>\u001b[0m in \u001b[0;36m<module>\u001b[0;34m\u001b[0m\n\u001b[1;32m      4\u001b[0m     \u001b[0mjetflag\u001b[0m \u001b[0;34m=\u001b[0m \u001b[0;34m''\u001b[0m\u001b[0;34m\u001b[0m\u001b[0;34m\u001b[0m\u001b[0m\n\u001b[1;32m      5\u001b[0m \u001b[0;32mfor\u001b[0m \u001b[0mi\u001b[0m \u001b[0;32min\u001b[0m \u001b[0mrange\u001b[0m\u001b[0;34m(\u001b[0m\u001b[0mtree_With\u001b[0m\u001b[0;34m.\u001b[0m\u001b[0mGetEntries\u001b[0m\u001b[0;34m(\u001b[0m\u001b[0;34m)\u001b[0m\u001b[0;34m)\u001b[0m\u001b[0;34m:\u001b[0m\u001b[0;34m\u001b[0m\u001b[0;34m\u001b[0m\u001b[0m\n\u001b[0;32m----> 6\u001b[0;31m     \u001b[0mtree_With\u001b[0m\u001b[0;34m.\u001b[0m\u001b[0mGetEntry\u001b[0m\u001b[0;34m(\u001b[0m\u001b[0mi\u001b[0m\u001b[0;34m)\u001b[0m\u001b[0;34m\u001b[0m\u001b[0;34m\u001b[0m\u001b[0m\n\u001b[0m\u001b[1;32m      7\u001b[0m     \u001b[0;32mif\u001b[0m\u001b[0;34m(\u001b[0m\u001b[0mgetattr\u001b[0m\u001b[0;34m(\u001b[0m\u001b[0mtree_With\u001b[0m\u001b[0;34m,\u001b[0m\u001b[0;34m\"gen\"\u001b[0m \u001b[0;34m+\u001b[0m \u001b[0mjetflag\u001b[0m \u001b[0;34m+\u001b[0m \u001b[0;34m\"_energy\"\u001b[0m\u001b[0;34m)\u001b[0m\u001b[0;34m[\u001b[0m\u001b[0;36m0\u001b[0m\u001b[0;34m]\u001b[0m\u001b[0;34m/\u001b[0m\u001b[0mnp\u001b[0m\u001b[0;34m.\u001b[0m\u001b[0mcosh\u001b[0m\u001b[0;34m(\u001b[0m\u001b[0mgetattr\u001b[0m\u001b[0;34m(\u001b[0m\u001b[0mtree_With\u001b[0m\u001b[0;34m,\u001b[0m\u001b[0;34m\"gen\"\u001b[0m \u001b[0;34m+\u001b[0m \u001b[0mjetflag\u001b[0m \u001b[0;34m+\u001b[0m \u001b[0;34m\"_eta\"\u001b[0m\u001b[0;34m)\u001b[0m\u001b[0;34m[\u001b[0m\u001b[0;36m0\u001b[0m\u001b[0;34m]\u001b[0m\u001b[0;34m)\u001b[0m\u001b[0;34m>\u001b[0m\u001b[0;36m140\u001b[0m\u001b[0;34m)\u001b[0m\u001b[0;34m:\u001b[0m\u001b[0;34m\u001b[0m\u001b[0;34m\u001b[0m\u001b[0m\n\u001b[1;32m      8\u001b[0m         \u001b[0mprint\u001b[0m\u001b[0;34m(\u001b[0m\u001b[0mi\u001b[0m\u001b[0;34m)\u001b[0m\u001b[0;34m\u001b[0m\u001b[0;34m\u001b[0m\u001b[0m\n",
      "\u001b[0;31mKeyboardInterrupt\u001b[0m: "
     ]
    }
   ],
   "source": [
    "if(isjet):\n",
    "    jetflag = 'jet'\n",
    "else:\n",
    "    jetflag = ''\n",
    "for i in range(tree_With.GetEntries()):\n",
    "    tree_With.GetEntry(i)\n",
    "    if(getattr(tree_With,\"gen\" + jetflag + \"_energy\")[0]/np.cosh(getattr(tree_With,\"gen\" + jetflag + \"_eta\")[0])>140):\n",
    "        print(i)"
   ]
  },
  {
   "cell_type": "code",
   "execution_count": 295,
   "id": "8f65bdca-7155-4727-8e06-03bf6de6dcd1",
   "metadata": {},
   "outputs": [],
   "source": [
    "tree_With.GetEntry(entryNum)\n",
    "tower_iPhi_With = getattr(tree_With,\"tower_iPhi\")\n",
    "tower_iEta_With = getattr(tree_With,\"tower_iEta\")\n",
    "tower_etEm_With = getattr(tree_With,\"tower_etEm\")\n",
    "tower_etHad_With = getattr(tree_With,\"tower_etHad\")\n",
    "tower_n_With = getattr(tree_With,\"tower_n\")\n",
    "tower_eta_With = getattr(tree_With,\"tower_eta\")\n",
    "if(isjet):\n",
    "    jetflag = 'jet'\n",
    "else:\n",
    "    jetflag = ''\n",
    "gen_eta_With = getattr(tree_With,\"gen\" + jetflag + \"_eta\")\n",
    "gen_phi_With = getattr(tree_With,\"gen\" + jetflag + \"_phi\")\n",
    "gen_energy_With = getattr(tree_With,\"gen\" + jetflag + \"_energy\")\n"
   ]
  },
  {
   "cell_type": "code",
   "execution_count": 297,
   "id": "0286d337-6d59-41d4-be01-d00ad557b280",
   "metadata": {},
   "outputs": [],
   "source": [
    "tree_No.GetEntry(entryNum)\n",
    "tower_iPhi_No = getattr(tree_No,\"tower_iPhi\")\n",
    "tower_iEta_No = getattr(tree_No,\"tower_iEta\")\n",
    "tower_etEm_No = getattr(tree_No,\"tower_etEm\")\n",
    "tower_etHad_No = getattr(tree_No,\"tower_etHad\")\n",
    "tower_n_No = getattr(tree_No,\"tower_n\")\n",
    "tower_eta_No = getattr(tree_No,\"tower_eta\")\n",
    "if(isjet):\n",
    "    jetflag = 'jet'\n",
    "else:\n",
    "    jetflag = ''\n",
    "gen_eta_No = getattr(tree_No,\"gen\" + jetflag + \"_eta\")\n",
    "gen_phi_No = getattr(tree_No,\"gen\" + jetflag + \"_phi\")\n",
    "gen_energy_No = getattr(tree_No,\"gen\" + jetflag + \"_energy\")"
   ]
  },
  {
   "cell_type": "code",
   "execution_count": 298,
   "id": "e2379947-2de1-41ef-97a0-0a38bd36d6da",
   "metadata": {},
   "outputs": [
    {
     "data": {
      "text/plain": [
       "True"
      ]
     },
     "execution_count": 298,
     "metadata": {},
     "output_type": "execute_result"
    }
   ],
   "source": [
    "histEM_With.Reset()\n",
    "histHad_With.Reset()\n",
    "histTot_With.Reset()\n",
    "\n",
    "histEM_No.Reset()\n",
    "histHad_No.Reset()\n",
    "histTot_No.Reset()\n",
    "\n",
    "for towerID in range(tower_n_With):\n",
    "    etaPhiBins = getEtaPhiBins(tower_eta_With[towerID], tower_iEta_With[towerID], tower_iPhi_With[towerID])\n",
    "    histEM_With.SetBinContent(etaPhiBins[0], etaPhiBins[1], tower_etEm_With[towerID])\n",
    "    histHad_With.SetBinContent(etaPhiBins[0], etaPhiBins[1], tower_etHad_With[towerID])\n",
    "    \n",
    "for towerID in range(tower_n_No):\n",
    "    etaPhiBins = getEtaPhiBins(tower_eta_No[towerID], tower_iEta_No[towerID], tower_iPhi_No[towerID])\n",
    "    histEM_No.SetBinContent(etaPhiBins[0], etaPhiBins[1], tower_etEm_No[towerID])\n",
    "    histHad_No.SetBinContent(etaPhiBins[0], etaPhiBins[1], tower_etHad_No[towerID])\n",
    "    \n",
    "\n",
    "\n",
    "histTot_With.Add(histEM_With)\n",
    "histTot_With.Add(histHad_With)\n",
    "\n",
    "histTot_No.Add(histEM_No)\n",
    "histTot_No.Add(histHad_No)"
   ]
  },
  {
   "cell_type": "code",
   "execution_count": 299,
   "id": "bb59cddf-2faf-4c18-aa5f-3be7bd8449d1",
   "metadata": {},
   "outputs": [],
   "source": [
    "rank = 0\n",
    "b_With = getBox(histTot_With, gen_eta_With[rank], gen_phi_With[rank])\n",
    "b_No = getBox(histTot_No, gen_eta_No[rank], gen_phi_No[rank])"
   ]
  },
  {
   "cell_type": "code",
   "execution_count": 301,
   "id": "909bde96-02d9-4e5f-9edf-a2b6b1dc81bb",
   "metadata": {},
   "outputs": [
    {
     "data": {
      "image/png": "[encoded data removed]",
      "text/plain": [
       "<IPython.core.display.Image object>"
      ]
     },
     "metadata": {},
     "output_type": "display_data"
    }
   ],
   "source": [
    "cTot = ROOT.TCanvas(\"\",\"\", 1200, 600)\n",
    "cTot.Divide(2,0)\n",
    "cTot.cd(1)\n",
    "histTot_With.Draw('colz')\n",
    "b_With.Draw()\n",
    "cTot.cd(2)\n",
    "histTot_No.Draw('colz')\n",
    "cTot.Draw()\n",
    "b_No.Draw()"
   ]
  },
  {
   "cell_type": "code",
   "execution_count": 277,
   "id": "be21ed99-bcca-4beb-b30d-1d13079d0b8f",
   "metadata": {},
   "outputs": [
    {
     "data": {
      "image/png": "[encoded data removed]",
      "text/plain": [
       "<IPython.core.display.Image object>"
      ]
     },
     "metadata": {},
     "output_type": "display_data"
    }
   ],
   "source": [
    "cEM = ROOT.TCanvas(\"\",\"\", 1200, 600)\n",
    "cEM.Divide(2,0)\n",
    "cEM.cd(1)\n",
    "histEM_With.Draw('colz')\n",
    "b_With.Draw()\n",
    "cEM.cd(2)\n",
    "histEM_No.Draw('colz')\n",
    "cEM.Draw()\n",
    "b_No.Draw()"
   ]
  },
  {
   "cell_type": "code",
   "execution_count": 278,
   "id": "f9853ab4-8ed6-4337-979e-c5abb02d1919",
   "metadata": {},
   "outputs": [
    {
     "data": {
      "image/png": "[encoded data removed]",
      "text/plain": [
       "<IPython.core.display.Image object>"
      ]
     },
     "metadata": {},
     "output_type": "display_data"
    }
   ],
   "source": [
    "cHad = ROOT.TCanvas(\"\",\"\", 1200, 600)\n",
    "cHad.Divide(2,0)\n",
    "cHad.cd(1)\n",
    "histHad_With.Draw('colz')\n",
    "b_With.Draw()\n",
    "cHad.cd(2)\n",
    "histHad_No.Draw('colz')\n",
    "cHad.Draw()\n",
    "b_No.Draw()"
   ]
  },
  {
   "cell_type": "code",
   "execution_count": 279,
   "id": "8a37f9ef-a6ed-4a29-b047-f05fbb51b585",
   "metadata": {},
   "outputs": [
    {
     "name": "stderr",
     "output_type": "stream",
     "text": [
      "Warning in <TCanvas::Delete()>: may not use this method\n",
      "Warning in <TCanvas::Delete()>: may not use this method\n",
      "Warning in <TCanvas::Delete()>: may not use this method\n"
     ]
    }
   ],
   "source": [
    "cEM.Delete()\n",
    "cHad.Delete()\n",
    "cTot.Delete()"
   ]
  },
  {
   "cell_type": "code",
   "execution_count": null,
   "id": "4621d129-be06-41ea-a716-9c6c1c2615f2",
   "metadata": {},
   "outputs": [],
   "source": []
  },
  {
   "cell_type": "code",
   "execution_count": null,
   "id": "d44994aa-02e0-43e6-a612-8a7acaaa8f25",
   "metadata": {},
   "outputs": [],
   "source": []
  },
  {
   "cell_type": "code",
   "execution_count": null,
   "id": "762580bb-39a4-4405-bedb-a02b4e93627e",
   "metadata": {},
   "outputs": [],
   "source": []
  },
  {
   "cell_type": "code",
   "execution_count": null,
   "id": "f092367f-e35d-4225-82b1-e0b582534cbb",
   "metadata": {},
   "outputs": [],
   "source": []
  },
  {
   "cell_type": "code",
   "execution_count": null,
   "id": "738c5922-f12b-43d4-8ac3-3b361879c4b9",
   "metadata": {},
   "outputs": [],
   "source": []
  },
  {
   "cell_type": "code",
   "execution_count": null,
   "id": "5313e298-55a2-4891-ba65-fcd361ce783b",
   "metadata": {},
   "outputs": [],
   "source": []
  },
  {
   "cell_type": "code",
   "execution_count": null,
   "id": "3907059e-2faa-4f07-a1f8-fac3f1952789",
   "metadata": {},
   "outputs": [],
   "source": []
  },
  {
   "cell_type": "code",
   "execution_count": null,
   "id": "b9d5c805-d299-48a8-a4a5-e933f7bb6b3c",
   "metadata": {},
   "outputs": [],
   "source": []
  },
  {
   "cell_type": "code",
   "execution_count": null,
   "id": "bb3f8827-c8e7-45cd-8867-ece32115d5f3",
   "metadata": {},
   "outputs": [],
   "source": []
  },
  {
   "cell_type": "code",
   "execution_count": null,
   "id": "72b88e3e-6639-4ce5-92a1-3491feadd22c",
   "metadata": {},
   "outputs": [],
   "source": []
  }
 ],
 "metadata": {
  "kernelspec": {
   "display_name": "Python 3",
   "language": "python",
   "name": "python3"
  },
  "language_info": {
   "codemirror_mode": {
    "name": "ipython",
    "version": 3
   },
   "file_extension": ".py",
   "mimetype": "text/x-python",
   "name": "python",
   "nbconvert_exporter": "python",
   "pygments_lexer": "ipython3",
   "version": "3.7.10"
  }
 },
 "nbformat": 4,
 "nbformat_minor": 5
}
